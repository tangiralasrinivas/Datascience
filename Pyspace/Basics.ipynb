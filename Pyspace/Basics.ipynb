{
 "cells": [
  {
   "cell_type": "markdown",
   "metadata": {},
   "source": [
    "### Assignment 2: Strings, Numerics, Booleans, if-then-else"
   ]
  },
  {
   "cell_type": "markdown",
   "metadata": {},
   "source": [
    "#### (2pts) A. Create a variable named `greeting` that contains the string 'hello world'. Print the variable `greeting`."
   ]
  },
  {
   "cell_type": "code",
   "execution_count": null,
   "metadata": {},
   "outputs": [],
   "source": [
    "greeting = \"hello world\"\n",
    "print(greeting)"
   ]
  },
  {
   "cell_type": "markdown",
   "metadata": {},
   "source": [
    "#### (6pts) B. You are given the string below that contains all the letters of the alphabet in order. Using indexing and slicing methods, do the following:\n",
    "\n",
    "* Print the first letter of the alphabet\n",
    "* Print the second letter of the alphabet\n",
    "* Print the 3rd to 10th letter of the alphabet (inclusive on both ends)\n",
    "* Print the last letter of the alphabet, using negative indexing\n",
    "* Print the last 10 letters of the alphabet, using negative indexing\n",
    "* Print the fist half of the alphabet; use the `len` command.\n"
   ]
  },
  {
   "cell_type": "code",
   "execution_count": null,
   "metadata": {},
   "outputs": [],
   "source": [
    "alphabet = 'ABCDEFGHIJKLMNOPQRSTUVWXYZ'\n",
    "print(alphabet[0])\n",
    "print(alphabet[1])\n",
    "print(alphabet[2:10])\n",
    "print(alphabet[-1])\n",
    "print(alphabet[-10:])\n",
    "print(alphabet[:len(alphabet)//2])\n"
   ]
  },
  {
   "cell_type": "markdown",
   "metadata": {},
   "source": [
    "#### (4pts) C. You are given the height of someone in centimeters. You need to convert it into feet and inches. (Each foot is 30.48 cm. Each inch is 2.54cm. Use variables to store these quantities.). Print the number of feet as an integer, and the number of inches as a decimal with one decimal point."
   ]
  },
  {
   "cell_type": "code",
   "execution_count": null,
   "metadata": {},
   "outputs": [],
   "source": [
    "height = 175 #in cm\n",
    "ft_to_cm = 30.48\n",
    "inch_to_cm=2.54\n",
    "ht_in_ft = height//ft_to_cm\n",
    "ht_in_inch = height%ft_to_cm / inch_to_cm\n",
    "\n",
    "## Part - 1 - Height in ft and inches\n",
    "print(height, \"cm is\", int(ht_in_ft), \"feet and\", round(ht_in_inch, 1) , \"inches\")"
   ]
  },
  {
   "cell_type": "markdown",
   "metadata": {},
   "source": [
    "#### (4pts) D. The Pythagorean Theorem\n",
    "\n",
    "If $a$ and $b$ are the lengths of the two short sides of a right triangle and $c$ is its long side then:\n",
    "\n",
    "$a^2 + b^2 = c^2$\n",
    "\n",
    "You are given a right triangle with side $a=10$ long and side $b=20$ long. How long is side $c$? (Hint: use the math.sqrt function to compute the square root.)"
   ]
  },
  {
   "cell_type": "code",
   "execution_count": null,
   "metadata": {},
   "outputs": [],
   "source": [
    "import math\n",
    "c1 = math.sqrt(10**2 + 20**2)\n",
    "print(\"Side C length is: {c}\".format(c=c1))"
   ]
  },
  {
   "cell_type": "markdown",
   "metadata": {},
   "source": [
    "###### The Pythagorean Theorem (cont)\n",
    "\n",
    "Conversely, if the formula $a^2 + b^2 = c^2$ holds then a triangle whose sides have length $a$, $b$ and $c$ is a right triangle. You are given below the lengths of the sides of 3 triangles. Write  the boolean expression that checks if the triangle is a right triangle. Assume that `c` is always the longest side.\n"
   ]
  },
  {
   "cell_type": "code",
   "execution_count": null,
   "metadata": {},
   "outputs": [],
   "source": [
    "# Triangle 1\n",
    "a = 10\n",
    "b = 20\n",
    "c = 30\n",
    "print((a**2 + b**2) == c**2)"
   ]
  },
  {
   "cell_type": "code",
   "execution_count": null,
   "metadata": {},
   "outputs": [],
   "source": [
    "# Triangle 2\n",
    "a = 15\n",
    "b = 112\n",
    "c = 113\n",
    "print((a**2 + b**2) == c**2)"
   ]
  },
  {
   "cell_type": "code",
   "execution_count": null,
   "metadata": {},
   "outputs": [],
   "source": [
    "# Triangle 3\n",
    "a = 96\n",
    "b = 247\n",
    "c = 255\n",
    "print((a**2 + b**2) == c**2)"
   ]
  },
  {
   "cell_type": "markdown",
   "metadata": {},
   "source": [
    "#### (8pts) E. Write Boolean expressions for the following.\n",
    "\n",
    "* Can a student graduate? A student can graduate after completing at least 120 credits, and has registered for at least 6 semesters ."
   ]
  },
  {
   "cell_type": "code",
   "execution_count": null,
   "metadata": {},
   "outputs": [],
   "source": [
    "semesters = 7 # fill your value\n",
    "credits = 140 # fill your value\n",
    "print(credits >= 120 and semesters >= 6)"
   ]
  },
  {
   "cell_type": "markdown",
   "metadata": {},
   "source": [
    "* Can I register today? A student can register on Monday if Senior, on Tuesday if Junior, on Wednesday if Sophomore, and on Thursday if Freshman."
   ]
  },
  {
   "cell_type": "code",
   "execution_count": null,
   "metadata": {},
   "outputs": [],
   "source": [
    "student = 'senior' #also 'Junior', 'Sophomore', 'Freshman'\n",
    "days = 'Monday' #also 'Monday', 'Tuesday', 'Wednesday', 'Thurday', 'Friday', 'Saturday'\n",
    "\n",
    "if(student.lower() == 'senior' and days.lower() == 'monday') \\\n",
    "or (student.lower() == 'junior' and days.lower() == 'tuesday') \\\n",
    "or (student.lower() == 'sophomore' and days.lower() == 'wednesday') \\\n",
    "or (student.lower() == 'freshman' and days.lower() == 'thursday'):\n",
    "    print(\"Students can register\")\n",
    "else:\n",
    "    print(\"Students cannot register\")"
   ]
  },
  {
   "cell_type": "markdown",
   "metadata": {},
   "source": [
    "#### (4pts) F. Compute and print both roots of the quadratic equation x^2-5.86\\*x+8.5408.\n",
    "\n",
    "Hint: recall that the roots of a quadratic equation $a \\cdot x^2+ b \\cdot x+c$ are $x = \n",
    "\\frac{−b ± \\sqrt{b^2 − 4 \\cdot a \\cdot c}}{ 2 \\cdot a}$\n"
   ]
  },
  {
   "cell_type": "code",
   "execution_count": null,
   "metadata": {},
   "outputs": [],
   "source": [
    "import math\n",
    "a = 1\n",
    "b = -5.86\n",
    "c = 8.5408\n",
    "\n",
    "D = b**2 - 4*a*c\n",
    "\n",
    "x1 = (-b + math.sqrt(D) ) /(2*a)\n",
    "print(f\"Solution 1: {x1:.3f}\")\n",
    "x2 = (-b - math.sqrt(D) )/(2*a)\n",
    "print(f\"Solution 2: {x2:.3f}\")"
   ]
  },
  {
   "cell_type": "markdown",
   "metadata": {},
   "source": [
    "#### (8pts) H.  You are given two articles below, regarding North and South Korea. The `article1` is from [Reuters](http://www.reuters.com/article/us-un-assembly-southkorea-northkorea-idUSKCN11T04N) and `article2` is from [Korea Herald](http://www.koreaherald.com/view.php?ud=20160923000173).\n",
    "\n",
    "* (1pts) Compute the length of each article in characters.\n",
    "* (1pts) Compute the length of each article length in words.\n",
    "* (1pts) Compute the length of each article in sentences. Assume that the period `.` is the separator between sentences.\n",
    "* (1pts) What is the average length of each sentence in words, for each article?\n",
    "* (2pts) Is `Obama` mentioned in `article1`? Is `Obama` mentioned in `article2`?\n",
    "* (2pts) How many times is `Korea` mentioned in in `article1` and how many times in `article2`? It is fine if your code also counts `Korean`."
   ]
  },
  {
   "cell_type": "code",
   "execution_count": null,
   "metadata": {},
   "outputs": [],
   "source": [
    "article1 = \"\"\"South Korean Foreign Minister Yun Byung-se accused North Korea on Thursday of \"totally ridiculing\" the authority of the United Nations through its nuclear and missile tests and said it was time to reconsider whether it was qualified for U.N. membership. In an address to the annual United Nations General Assembly, Yun said the U.N. security Council should adopt \"stronger, comprehensive\" sanctions on North Korea after its fifth nuclear test on Sept. 9 and close loopholes in existing measures. \"North Korea's repeated violations and non-compliance of Security Council resolutions and international norms is unprecedented and has no parallel in the history of the U.N.,\" Yun said. \"North Korea is totally ridiculing the authority of the General Assembly and the Security Council,\" he said. \"Therefore, I believe it is high time to seriously reconsider whether North Korea is qualified as a peace-loving U.N. member, as many countries are already questioning.\" Yun said North Korea had not only advanced its nuclear and missile capacity, but publicly threatened to use those weapons preemptively. He said it was the \"last chance\" to put a brake on its nuclear ambitions. Yun also called for action against North Korea's violations of the rights of its own people, and said there should be greater focus on North Korean workers abroad and the possible diversion of their wages to weapons programs.Discussions are already under way on a possible new U.N. sanctions resolution on North Korea after its latest nuclear test. Analysts and diplomats say much depends on China's attitude. China is North Korea's main ally, but has been angered by its repeated missile and nuclear tests and backed tough U.N. sanctions on Pyongyang in March. At the same time, it has repeatedly called for a return to international talks to resolve the issue, in spite of the skepticism of other world powers. Chinese Premier Li Keqiang told the General Assembly on Wednesday countries must remain committed to denuclearization of the Korean peninsula, while seeking a solution to the North Korean nuclear issue through dialogue. The United States said Li and U.S. President Barack Obama agreed in New York on Monday to step up cooperation in the U.N. Security Council and in law enforcement channels Japanese Prime Minister Shinzo Abe said on Wednesday the threat posed by North Korea was \"substantially more serious\" than in the past and demanded an \"entirely distinct\" response.\"\"\"\n",
    "article2 = \"\"\"The UN Security Council should go beyond simply discussing North Korea's human rights violations and take \"meaningful action,\" South Korean Foreign Minister Yun Byung-se said Thursday, as the council is considering fresh sanctions on Pyongyang for its fifth nuclear test. Yun made the remark during a meeting with South Korean correspondents in New York, saying the North's human rights abuses will be one of the key focuses of an address he was scheduled to deliver at the UN General Assembly later in the day. Yun said it makes no sense for the North to ask for international aid to cope with the aftermath of a massive flood after wasting money on a nuclear test. \"North Korea cares nothing about people's hardships while wasting an enormous amount of money. I will strongly point out these dual attitudes and the North's disregard for human rights at the United Nations,\" Yun told reporters Yun's remarks came as the Security Council has been working on new sanctions on the North for its Sept. 9 nuclear test, and suggest that a new sanctions package could include measures with regard to Pyongyang's human rights violations. A senior government official also said on condition of anonymity that the Security Council might impose sanctions not only over the North's nuclear and missile programs, but also over its human rights abuses. The official spoke on condition of anonymity. The official also said a new sanctions resolution is expected to be adopted in a shorter period of time than after the North's fourth nuclear test in January when it took 57 days to adopt a resolution. \"I expect an additional resolution will be adopted within a reasonable period of time,\" the official said. The official also said that the previous resolution, considered the toughest sanctions on the North ever, is having considerable effects on the North. The US is also expected to take additional unilateral sanctions on Pyongyang, too, the official said. The official said it's not the right time to hold negotiations with the North because it could justify the North's bad behavior. The UN General Assembly adopted a landmark resolution calling for referring the issue to the International Criminal Court for two years in a row in 2014 and last year. Under the resolutions, the Security Council also held discussions on the issue twice. While in New York, Yun said he has held meetings with various US figures that could lead the security and foreign policy in the next US administration. He did not provide further specifics, including who those people were, and which campaign they're with. Yun said that he stressed in those meetings that the Korea-US alliance is a key pillar in the Asia-Pacific region and a core point of the rebalancing toward Asia-Pacific, and that the Korea-US free trade agreement has contributed greatly to enhancing mutual interests of the two countries.\"\"\""
   ]
  },
  {
   "cell_type": "code",
   "execution_count": null,
   "metadata": {},
   "outputs": [],
   "source": [
    "# Compute the length of each article in characters.\n",
    "print(len(article1))\n",
    "print(len(article2))"
   ]
  },
  {
   "cell_type": "code",
   "execution_count": null,
   "metadata": {},
   "outputs": [],
   "source": [
    "# Compute the length of each article length in words.\n",
    "print(len(article1.split()))\n",
    "print(len(article2.split()))"
   ]
  },
  {
   "cell_type": "code",
   "execution_count": null,
   "metadata": {},
   "outputs": [],
   "source": [
    "# Compute the length of each article in sentences. Assume that the period . is the separator between sentences.\n",
    "print(len(article1.split(\".\")))\n",
    "print(len(article2.split(\".\")))"
   ]
  },
  {
   "cell_type": "code",
   "execution_count": null,
   "metadata": {},
   "outputs": [],
   "source": [
    "# What is the average length of each sentence in words, for each article?\n",
    "word_list=[]\n",
    "for article in (article1,article2):\n",
    "    for sentence in article.split(\".\"):\n",
    "        word_list.append(len(sentence.split()))\n",
    "    print(\"Average length of each sentence in words for article =\",sum(word_list)/len(word_list))"
   ]
  },
  {
   "cell_type": "code",
   "execution_count": null,
   "metadata": {},
   "outputs": [],
   "source": [
    "# Is Obama mentioned in article1? Is Obama mentioned in article2?\n",
    "print(\"Obama\" in article1)\n",
    "print(\"Obama\" in article2)"
   ]
  },
  {
   "cell_type": "code",
   "execution_count": null,
   "metadata": {},
   "outputs": [],
   "source": [
    "# How many times is Korea mentioned in in article1 and how many times in article2?\n",
    "print(article1.count(\"Korea\"))\n",
    "print(article2.count(\"Korea\"))"
   ]
  },
  {
   "cell_type": "markdown",
   "metadata": {
    "collapsed": true
   },
   "source": [
    "#### (4pts) I. Voting Eligibility\n",
    "\n",
    "You need to be above 18 and a US Citizen, to be able to vote. You also need to be registered. Write the conditional expression that checks for these conditions and prints out whether the person can vote. If the person cannot vote, the code should print out the reason (below 18, or not a US citizen, or not registered, or a combination thereof).\n"
   ]
  },
  {
   "cell_type": "code",
   "execution_count": null,
   "metadata": {},
   "outputs": [],
   "source": [
    "age = 19\n",
    "us_citizen = 1\n",
    "registered = 1\n",
    "\n",
    "if age > 18 and us_citizen and registered:\n",
    "    print(\"You can vote\")\n",
    "else:\n",
    "    print(\"You cannot vote\")\n",
    "    if age<18:\n",
    "        print(\"You are below 18\")\n",
    "    if not us_citizen:\n",
    "        print(\"You are not a US citizen\")\n",
    "    if not registered:\n",
    "        print(\"You are not registered\")"
   ]
  },
  {
   "cell_type": "markdown",
   "metadata": {},
   "source": [
    "#### (5pts) J. Pay Rate\n",
    "\n",
    "A worker gets paid an hourly wage, when working up to 40 hours per week. When the time at work goes above 40 hours in a week, the worker is being paid overtime rate, which is 1.5 times the hourly wage. Given the hours worked per week, and the hourly wage, compute the weekly salary of the worker."
   ]
  },
  {
   "cell_type": "code",
   "execution_count": null,
   "metadata": {},
   "outputs": [],
   "source": [
    "total_hrs_worked=168\n",
    "wage_per_hour = 20\n",
    "if total_hrs_worked > 40 and total_hrs_worked <= 168:\n",
    "    salary_per_week = (wage_per_hour * 40) + ((total_hrs_worked - 40) * wage_per_hour * 1.5)\n",
    "    print(\"Weekly Salary with Over Time =\", salary_per_week)\n",
    "elif total_hrs_worked <= 40:\n",
    "    salary_per_week = total_hrs_worked * wage_per_hour\n",
    "    print(\"Weekly Salary =\", salary_per_week)\n",
    "else:\n",
    "    print(\"Provide valid input\")"
   ]
  },
  {
   "cell_type": "markdown",
   "metadata": {},
   "source": [
    "#### (5pts) K. Course grade \n",
    "\n",
    "Write a program to prompt for a score between 0.0 and 1.0. If the\n",
    "score is out of range, print an error message. If the score is between 0.0 and 1.0,\n",
    "print a grade using the following table:\n",
    "\n",
    "```\n",
    "Score   Grade\n",
    ">1      Error: Too big\n",
    ">=0.9   A\n",
    ">=0.8   B\n",
    ">=0.7   C\n",
    ">=0.6   D\n",
    "<0.6    F\n",
    "<0      Error: Too small\n",
    "```"
   ]
  },
  {
   "cell_type": "code",
   "execution_count": null,
   "metadata": {},
   "outputs": [],
   "source": [
    "score = float(input(\"Enter a score between 0.0 - 1.0: \"))\n",
    "\n",
    "if score >= 0.9:\n",
    "    print(\"Grade A\")\n",
    "elif score >= 0.8:\n",
    "    print(\"Grade B\")\n",
    "elif score >= 0.7:\n",
    "    print(\"Grade C\")\n",
    "elif score >= 0.6:\n",
    "    print(\"Grade D\")\n",
    "elif score < 0.6:\n",
    "    print(\"Grade F\")\n",
    "elif score > 1 or score < 0:\n",
    "    print(\"Please enter your score from 0.0 - 1.0\") "
   ]
  },
  {
   "cell_type": "code",
   "execution_count": null,
   "metadata": {},
   "outputs": [],
   "source": []
  }
 ],
 "metadata": {
  "kernelspec": {
   "display_name": "Python 3",
   "language": "python",
   "name": "python3"
  },
  "language_info": {
   "codemirror_mode": {
    "name": "ipython",
    "version": 3
   },
   "file_extension": ".py",
   "mimetype": "text/x-python",
   "name": "python",
   "nbconvert_exporter": "python",
   "pygments_lexer": "ipython3",
   "version": "3.7.1"
  },
  "toc": {
   "nav_menu": {},
   "number_sections": true,
   "sideBar": true,
   "skip_h1_title": false,
   "title_cell": "Table of Contents",
   "title_sidebar": "Contents",
   "toc_cell": false,
   "toc_position": {},
   "toc_section_display": true,
   "toc_window_display": false
  }
 },
 "nbformat": 4,
 "nbformat_minor": 1
}
