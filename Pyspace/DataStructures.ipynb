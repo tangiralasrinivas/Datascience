{
 "cells": [
  {
   "cell_type": "markdown",
   "metadata": {},
   "source": [
    "### Assignment 3: Data Structures, Loops, Functions"
   ]
  },
  {
   "cell_type": "markdown",
   "metadata": {},
   "source": [
    "#### (10 pts) A. Nested Data Structures and Lists\n",
    "\n",
    "The students received their grades for a midterm exam. The results came as a dictionary, and the grades are in the form of lists. The list contains the score each student received, for each question in the midterm. Unfortunately, the professor was very absent minded and he forgot to sum up the points to compute the overall grade for each student.\n",
    "\n",
    "* (1pts) How many students are in the data set?\n",
    "* (1pts) How many questions were in the midterm?\n",
    "* (4pts) Write code to compute the overall grade of each student. Add the overall grade in a new dictionary called `midterm_grades`, with the students as keys, and the overall grades as (integer) values.\n",
    "* (1pts) Extract the values from the `midterm_grades` and create a list of the overall grades for the midterm.\n",
    "* (3pts) Compute the maximum, minimum, average, and median grade among the overall student grades.\n"
   ]
  },
  {
   "cell_type": "code",
   "execution_count": 1,
   "metadata": {},
   "outputs": [],
   "source": [
    "grades = {\n",
    "    \"studentA\" : [5, 2, 3, 1, 2, 4, 5, 5, 1, 1],\n",
    "    \"studentB\" : [1, 2, 5, 5, 2, 0, 1, 5, 5, 2],\n",
    "    \"studentC\" : [2, 5, 5, 5, 5, 0, 1, 3, 1, 0],\n",
    "    \"studentD\" : [0, 1, 0, 5, 2, 5, 1, 3, 3, 5],\n",
    "    \"studentE\" : [5, 4, 5, 5, 1, 5, 1, 4, 4, 5],\n",
    "    \"studentF\" : [2, 2, 1, 1, 1, 3, 1, 3, 0, 1],\n",
    "    \"studentG\" : [5, 5, 5, 5, 5, 4, 3, 5, 3, 1],\n",
    "}\n"
   ]
  },
  {
   "cell_type": "code",
   "execution_count": 2,
   "metadata": {},
   "outputs": [
    {
     "name": "stdout",
     "output_type": "stream",
     "text": [
      "There are 7 Students in the dataset\n"
     ]
    }
   ],
   "source": [
    "### Part - 1\n",
    "print(\"There are\",len(grades), \"Students in the dataset\")"
   ]
  },
  {
   "cell_type": "code",
   "execution_count": 3,
   "metadata": {},
   "outputs": [
    {
     "name": "stdout",
     "output_type": "stream",
     "text": [
      "There are 10 questions in mid term\n"
     ]
    }
   ],
   "source": [
    "### Part - 2\n",
    "print(\"There are\",len(grades[\"studentA\"]),\"questions in mid term\")"
   ]
  },
  {
   "cell_type": "code",
   "execution_count": 4,
   "metadata": {},
   "outputs": [
    {
     "name": "stdout",
     "output_type": "stream",
     "text": [
      "Midterm Grades = {'studentA': 29, 'studentB': 28, 'studentC': 27, 'studentD': 25, 'studentE': 39, 'studentF': 15, 'studentG': 41}\n"
     ]
    }
   ],
   "source": [
    "### Part - 3\n",
    "\n",
    "midterm_grades={}\n",
    "for student in grades:\n",
    "    midterm_grades[student] = sum(grades[student])\n",
    "print(\"Midterm Grades =\",midterm_grades)"
   ]
  },
  {
   "cell_type": "code",
   "execution_count": 5,
   "metadata": {},
   "outputs": [
    {
     "name": "stdout",
     "output_type": "stream",
     "text": [
      "Overall grade = [29, 28, 27, 25, 39, 15, 41]\n"
     ]
    }
   ],
   "source": [
    "### Part - 4\n",
    "overall_grade = list(midterm_grades.values())\n",
    "print(\"Overall grade =\",overall_grade)"
   ]
  },
  {
   "cell_type": "code",
   "execution_count": 6,
   "metadata": {},
   "outputs": [
    {
     "name": "stdout",
     "output_type": "stream",
     "text": [
      "Min =  15\n",
      "Max =  41\n",
      "Mean =  29.142857142857142\n",
      "Median =  28\n"
     ]
    }
   ],
   "source": [
    "### Part - 5\n",
    "print(\"Min = \",min(overall_grade))\n",
    "print(\"Max = \",max(overall_grade))\n",
    "print(\"Mean = \",sum(overall_grade) / len(overall_grade))\n",
    "print(\"Median = \",sorted(overall_grade)[len(overall_grade)//2])"
   ]
  },
  {
   "cell_type": "markdown",
   "metadata": {},
   "source": [
    "#### (10 pts) B. Restaurant Meal Price \n",
    "\n",
    "* Part 1. (1pts) Write code that computes the total price of the meal in a restaurant. You know that:\n",
    "    * The price of the food is $15.\n",
    "    * The NY State Tax rate is 8.875%.\n",
    "    * The tipping percentage is 18% of the the overall cost of the meal (including tax).\n",
    "    * Use Python variables to perform the computation.\n",
    "\n",
    "* Part 2. (2 pts) Write a function that computes the total price of the meal in a restaurant. The function takes as input the food price, the sales tax rate, and the tip percentage. The tip is computed on the overall cost of the meal (including tax).\n",
    "\n",
    "* Part 3. (3 pts) Write a for loop that computes the total price of a meal, for different tipping rates, starting from 15% and ending at 25% (both inclusive) at 1% increments. Use the function from Part 2 as part of the loop.\n",
    "\n",
    "* Part 4. (4 pts) Below you will find a dictionary with the tax rates for different states, expressed in percentages. Iterate through all states and print the value of a meal, where the pre-tax food price is $20; show the prices for tip percentages of 15%, 20%, and 25%.\n",
    "\n"
   ]
  },
  {
   "cell_type": "code",
   "execution_count": 7,
   "metadata": {},
   "outputs": [
    {
     "name": "stdout",
     "output_type": "stream",
     "text": [
      "Total cost of the meal = 19.270875\n"
     ]
    }
   ],
   "source": [
    "### Part - 1\n",
    "\n",
    "price=15\n",
    "state_tax= 8.875\n",
    "tip = 18\n",
    "\n",
    "price_with_tax=price * (state_tax/100)\n",
    "\n",
    "total_cost= price + price_with_tax + (price + price_with_tax ) * (tip/100)\n",
    "\n",
    "print(\"Total cost of the meal =\",total_cost)"
   ]
  },
  {
   "cell_type": "code",
   "execution_count": 8,
   "metadata": {},
   "outputs": [],
   "source": [
    "#### Part - 2\n",
    "\n",
    "def total_meal_cost(price,state_tax,tip):\n",
    "    return price + price * (state_tax/100) + (price + price * (state_tax/100) ) * (tip/100)\n"
   ]
  },
  {
   "cell_type": "code",
   "execution_count": 9,
   "metadata": {},
   "outputs": [
    {
     "name": "stdout",
     "output_type": "stream",
     "text": [
      "Total Meal cost at 15 % tipping rate = 18.7809375\n",
      "Total Meal cost at 16 % tipping rate = 18.94425\n",
      "Total Meal cost at 17 % tipping rate = 19.1075625\n",
      "Total Meal cost at 18 % tipping rate = 19.270875\n",
      "Total Meal cost at 19 % tipping rate = 19.4341875\n",
      "Total Meal cost at 20 % tipping rate = 19.5975\n",
      "Total Meal cost at 21 % tipping rate = 19.7608125\n",
      "Total Meal cost at 22 % tipping rate = 19.924125\n",
      "Total Meal cost at 23 % tipping rate = 20.0874375\n",
      "Total Meal cost at 24 % tipping rate = 20.25075\n",
      "Total Meal cost at 25 % tipping rate = 20.4140625\n"
     ]
    }
   ],
   "source": [
    "### Part - 3\n",
    "\n",
    "for tip in range(15,26):\n",
    "    print(\"Total Meal cost at\",tip,\"% tipping rate =\",total_meal_cost(price=15,state_tax=8.875,tip=tip))"
   ]
  },
  {
   "cell_type": "code",
   "execution_count": 10,
   "metadata": {},
   "outputs": [],
   "source": [
    "tax = {\n",
    "    \"Alabama\": 13.50, \n",
    "    \"Alaska\": 7,\n",
    "    \"Arizona\": 10.73,\n",
    "    \"Arkansas\": 11.63,\n",
    "    \"California\": 10,\n",
    "    \"Colorado\": 10,\n",
    "    \"Connecticut\": 6.35,\n",
    "    \"Delaware\": 0,\n",
    "    \"District of Columbia\": 5.75,\n",
    "    \"Florida\": 7.50,\n",
    "    \"Georgia\": 8,\n",
    "    \"Hawaii\": 4.50,\n",
    "    \"Idaho\": 8.50,\n",
    "    \"Illinois\": 9.75,\n",
    "    \"Indiana\": 7,\n",
    "    \"Iowa\": 7,\n",
    "    \"Kansas\": 9.65,\n",
    "    \"Kentucky\": 6,\n",
    "    \"Louisiana\": 11,\n",
    "    \"Maine\": 5.50,\n",
    "    \"Maryland\": 6,\n",
    "    \"Massachusetts\": 6.25,\n",
    "    \"Michigan\": 6,\n",
    "    \"Minnesota\": 7.88,\n",
    "    \"Mississippi\": 7.25,\n",
    "    \"Missouri\": 9.35,\n",
    "    \"Montana\": 0,\n",
    "    \"Nebraska\": 7.50,\n",
    "    \"Nevada\": 8.10,\n",
    "    \"New Hampshire\": 0,\n",
    "    \"New Jersey\": 7,\n",
    "    \"New Mexico\": 8.69,\n",
    "    \"New York\": 8.88,\n",
    "    \"North Carolina\": 7.50,\n",
    "    \"North Dakota\": 8,\n",
    "    \"Ohio\": 8,\n",
    "    \"Oklahoma\": 11,\n",
    "    \"Oregon\": 0,\n",
    "    \"Pennsylvania\": 8,\n",
    "    \"Rhode Island\": 7,\n",
    "    \"South Carolina\": 9,\n",
    "    \"South Dakota\": 6,\n",
    "    \"Tennessee\": 9.75,\n",
    "    \"Texas\": 8.25,\n",
    "    \"Utah\": 8.35,\n",
    "    \"Vermont\": 7,\n",
    "    \"Virginia\": 6,\n",
    "    \"Washington\": 9.60,\n",
    "    \"West Virginia\": 7,\n",
    "    \"Wisconsin\": 5.60,\n",
    "    \"Wyoming\": 6,\n",
    "}"
   ]
  },
  {
   "cell_type": "code",
   "execution_count": 11,
   "metadata": {},
   "outputs": [
    {
     "name": "stdout",
     "output_type": "stream",
     "text": [
      "Meal Cost in Alabama with a tax rate of 13.5 and tip rate of 15 % = 26.105\n",
      "Meal Cost in Alabama with a tax rate of 13.5 and tip rate of 20 % = 27.24\n",
      "Meal Cost in Alabama with a tax rate of 13.5 and tip rate of 25 % = 28.375\n",
      "Meal Cost in Alaska with a tax rate of 7 and tip rate of 15 % = 24.61\n",
      "Meal Cost in Alaska with a tax rate of 7 and tip rate of 20 % = 25.68\n",
      "Meal Cost in Alaska with a tax rate of 7 and tip rate of 25 % = 26.75\n",
      "Meal Cost in Arizona with a tax rate of 10.73 and tip rate of 15 % = 25.4679\n",
      "Meal Cost in Arizona with a tax rate of 10.73 and tip rate of 20 % = 26.575200000000002\n",
      "Meal Cost in Arizona with a tax rate of 10.73 and tip rate of 25 % = 27.6825\n",
      "Meal Cost in Arkansas with a tax rate of 11.63 and tip rate of 15 % = 25.6749\n",
      "Meal Cost in Arkansas with a tax rate of 11.63 and tip rate of 20 % = 26.7912\n",
      "Meal Cost in Arkansas with a tax rate of 11.63 and tip rate of 25 % = 27.9075\n",
      "Meal Cost in California with a tax rate of 10 and tip rate of 15 % = 25.3\n",
      "Meal Cost in California with a tax rate of 10 and tip rate of 20 % = 26.4\n",
      "Meal Cost in California with a tax rate of 10 and tip rate of 25 % = 27.5\n",
      "Meal Cost in Colorado with a tax rate of 10 and tip rate of 15 % = 25.3\n",
      "Meal Cost in Colorado with a tax rate of 10 and tip rate of 20 % = 26.4\n",
      "Meal Cost in Colorado with a tax rate of 10 and tip rate of 25 % = 27.5\n",
      "Meal Cost in Connecticut with a tax rate of 6.35 and tip rate of 15 % = 24.4605\n",
      "Meal Cost in Connecticut with a tax rate of 6.35 and tip rate of 20 % = 25.524\n",
      "Meal Cost in Connecticut with a tax rate of 6.35 and tip rate of 25 % = 26.5875\n",
      "Meal Cost in Delaware with a tax rate of 0 and tip rate of 15 % = 23.0\n",
      "Meal Cost in Delaware with a tax rate of 0 and tip rate of 20 % = 24.0\n",
      "Meal Cost in Delaware with a tax rate of 0 and tip rate of 25 % = 25.0\n",
      "Meal Cost in District of Columbia with a tax rate of 5.75 and tip rate of 15 % = 24.322499999999998\n",
      "Meal Cost in District of Columbia with a tax rate of 5.75 and tip rate of 20 % = 25.38\n",
      "Meal Cost in District of Columbia with a tax rate of 5.75 and tip rate of 25 % = 26.4375\n",
      "Meal Cost in Florida with a tax rate of 7.5 and tip rate of 15 % = 24.725\n",
      "Meal Cost in Florida with a tax rate of 7.5 and tip rate of 20 % = 25.8\n",
      "Meal Cost in Florida with a tax rate of 7.5 and tip rate of 25 % = 26.875\n",
      "Meal Cost in Georgia with a tax rate of 8 and tip rate of 15 % = 24.840000000000003\n",
      "Meal Cost in Georgia with a tax rate of 8 and tip rate of 20 % = 25.92\n",
      "Meal Cost in Georgia with a tax rate of 8 and tip rate of 25 % = 27.0\n",
      "Meal Cost in Hawaii with a tax rate of 4.5 and tip rate of 15 % = 24.034999999999997\n",
      "Meal Cost in Hawaii with a tax rate of 4.5 and tip rate of 20 % = 25.08\n",
      "Meal Cost in Hawaii with a tax rate of 4.5 and tip rate of 25 % = 26.125\n",
      "Meal Cost in Idaho with a tax rate of 8.5 and tip rate of 15 % = 24.955\n",
      "Meal Cost in Idaho with a tax rate of 8.5 and tip rate of 20 % = 26.04\n",
      "Meal Cost in Idaho with a tax rate of 8.5 and tip rate of 25 % = 27.125\n",
      "Meal Cost in Illinois with a tax rate of 9.75 and tip rate of 15 % = 25.2425\n",
      "Meal Cost in Illinois with a tax rate of 9.75 and tip rate of 20 % = 26.34\n",
      "Meal Cost in Illinois with a tax rate of 9.75 and tip rate of 25 % = 27.4375\n",
      "Meal Cost in Indiana with a tax rate of 7 and tip rate of 15 % = 24.61\n",
      "Meal Cost in Indiana with a tax rate of 7 and tip rate of 20 % = 25.68\n",
      "Meal Cost in Indiana with a tax rate of 7 and tip rate of 25 % = 26.75\n",
      "Meal Cost in Iowa with a tax rate of 7 and tip rate of 15 % = 24.61\n",
      "Meal Cost in Iowa with a tax rate of 7 and tip rate of 20 % = 25.68\n",
      "Meal Cost in Iowa with a tax rate of 7 and tip rate of 25 % = 26.75\n",
      "Meal Cost in Kansas with a tax rate of 9.65 and tip rate of 15 % = 25.2195\n",
      "Meal Cost in Kansas with a tax rate of 9.65 and tip rate of 20 % = 26.316\n",
      "Meal Cost in Kansas with a tax rate of 9.65 and tip rate of 25 % = 27.4125\n",
      "Meal Cost in Kentucky with a tax rate of 6 and tip rate of 15 % = 24.38\n",
      "Meal Cost in Kentucky with a tax rate of 6 and tip rate of 20 % = 25.439999999999998\n",
      "Meal Cost in Kentucky with a tax rate of 6 and tip rate of 25 % = 26.5\n",
      "Meal Cost in Louisiana with a tax rate of 11 and tip rate of 15 % = 25.529999999999998\n",
      "Meal Cost in Louisiana with a tax rate of 11 and tip rate of 20 % = 26.64\n",
      "Meal Cost in Louisiana with a tax rate of 11 and tip rate of 25 % = 27.75\n",
      "Meal Cost in Maine with a tax rate of 5.5 and tip rate of 15 % = 24.265\n",
      "Meal Cost in Maine with a tax rate of 5.5 and tip rate of 20 % = 25.32\n",
      "Meal Cost in Maine with a tax rate of 5.5 and tip rate of 25 % = 26.375\n",
      "Meal Cost in Maryland with a tax rate of 6 and tip rate of 15 % = 24.38\n",
      "Meal Cost in Maryland with a tax rate of 6 and tip rate of 20 % = 25.439999999999998\n",
      "Meal Cost in Maryland with a tax rate of 6 and tip rate of 25 % = 26.5\n",
      "Meal Cost in Massachusetts with a tax rate of 6.25 and tip rate of 15 % = 24.4375\n",
      "Meal Cost in Massachusetts with a tax rate of 6.25 and tip rate of 20 % = 25.5\n",
      "Meal Cost in Massachusetts with a tax rate of 6.25 and tip rate of 25 % = 26.5625\n",
      "Meal Cost in Michigan with a tax rate of 6 and tip rate of 15 % = 24.38\n",
      "Meal Cost in Michigan with a tax rate of 6 and tip rate of 20 % = 25.439999999999998\n",
      "Meal Cost in Michigan with a tax rate of 6 and tip rate of 25 % = 26.5\n",
      "Meal Cost in Minnesota with a tax rate of 7.88 and tip rate of 15 % = 24.8124\n",
      "Meal Cost in Minnesota with a tax rate of 7.88 and tip rate of 20 % = 25.8912\n",
      "Meal Cost in Minnesota with a tax rate of 7.88 and tip rate of 25 % = 26.97\n",
      "Meal Cost in Mississippi with a tax rate of 7.25 and tip rate of 15 % = 24.6675\n",
      "Meal Cost in Mississippi with a tax rate of 7.25 and tip rate of 20 % = 25.74\n",
      "Meal Cost in Mississippi with a tax rate of 7.25 and tip rate of 25 % = 26.8125\n",
      "Meal Cost in Missouri with a tax rate of 9.35 and tip rate of 15 % = 25.1505\n",
      "Meal Cost in Missouri with a tax rate of 9.35 and tip rate of 20 % = 26.244\n",
      "Meal Cost in Missouri with a tax rate of 9.35 and tip rate of 25 % = 27.337500000000002\n",
      "Meal Cost in Montana with a tax rate of 0 and tip rate of 15 % = 23.0\n",
      "Meal Cost in Montana with a tax rate of 0 and tip rate of 20 % = 24.0\n",
      "Meal Cost in Montana with a tax rate of 0 and tip rate of 25 % = 25.0\n",
      "Meal Cost in Nebraska with a tax rate of 7.5 and tip rate of 15 % = 24.725\n",
      "Meal Cost in Nebraska with a tax rate of 7.5 and tip rate of 20 % = 25.8\n",
      "Meal Cost in Nebraska with a tax rate of 7.5 and tip rate of 25 % = 26.875\n",
      "Meal Cost in Nevada with a tax rate of 8.1 and tip rate of 15 % = 24.863\n",
      "Meal Cost in Nevada with a tax rate of 8.1 and tip rate of 20 % = 25.944000000000003\n",
      "Meal Cost in Nevada with a tax rate of 8.1 and tip rate of 25 % = 27.025000000000002\n",
      "Meal Cost in New Hampshire with a tax rate of 0 and tip rate of 15 % = 23.0\n",
      "Meal Cost in New Hampshire with a tax rate of 0 and tip rate of 20 % = 24.0\n",
      "Meal Cost in New Hampshire with a tax rate of 0 and tip rate of 25 % = 25.0\n",
      "Meal Cost in New Jersey with a tax rate of 7 and tip rate of 15 % = 24.61\n",
      "Meal Cost in New Jersey with a tax rate of 7 and tip rate of 20 % = 25.68\n",
      "Meal Cost in New Jersey with a tax rate of 7 and tip rate of 25 % = 26.75\n",
      "Meal Cost in New Mexico with a tax rate of 8.69 and tip rate of 15 % = 24.9987\n",
      "Meal Cost in New Mexico with a tax rate of 8.69 and tip rate of 20 % = 26.0856\n",
      "Meal Cost in New Mexico with a tax rate of 8.69 and tip rate of 25 % = 27.1725\n",
      "Meal Cost in New York with a tax rate of 8.88 and tip rate of 15 % = 25.0424\n",
      "Meal Cost in New York with a tax rate of 8.88 and tip rate of 20 % = 26.1312\n",
      "Meal Cost in New York with a tax rate of 8.88 and tip rate of 25 % = 27.22\n",
      "Meal Cost in North Carolina with a tax rate of 7.5 and tip rate of 15 % = 24.725\n",
      "Meal Cost in North Carolina with a tax rate of 7.5 and tip rate of 20 % = 25.8\n",
      "Meal Cost in North Carolina with a tax rate of 7.5 and tip rate of 25 % = 26.875\n",
      "Meal Cost in North Dakota with a tax rate of 8 and tip rate of 15 % = 24.840000000000003\n",
      "Meal Cost in North Dakota with a tax rate of 8 and tip rate of 20 % = 25.92\n",
      "Meal Cost in North Dakota with a tax rate of 8 and tip rate of 25 % = 27.0\n",
      "Meal Cost in Ohio with a tax rate of 8 and tip rate of 15 % = 24.840000000000003\n",
      "Meal Cost in Ohio with a tax rate of 8 and tip rate of 20 % = 25.92\n",
      "Meal Cost in Ohio with a tax rate of 8 and tip rate of 25 % = 27.0\n",
      "Meal Cost in Oklahoma with a tax rate of 11 and tip rate of 15 % = 25.529999999999998\n",
      "Meal Cost in Oklahoma with a tax rate of 11 and tip rate of 20 % = 26.64\n",
      "Meal Cost in Oklahoma with a tax rate of 11 and tip rate of 25 % = 27.75\n",
      "Meal Cost in Oregon with a tax rate of 0 and tip rate of 15 % = 23.0\n",
      "Meal Cost in Oregon with a tax rate of 0 and tip rate of 20 % = 24.0\n",
      "Meal Cost in Oregon with a tax rate of 0 and tip rate of 25 % = 25.0\n",
      "Meal Cost in Pennsylvania with a tax rate of 8 and tip rate of 15 % = 24.840000000000003\n",
      "Meal Cost in Pennsylvania with a tax rate of 8 and tip rate of 20 % = 25.92\n",
      "Meal Cost in Pennsylvania with a tax rate of 8 and tip rate of 25 % = 27.0\n",
      "Meal Cost in Rhode Island with a tax rate of 7 and tip rate of 15 % = 24.61\n",
      "Meal Cost in Rhode Island with a tax rate of 7 and tip rate of 20 % = 25.68\n",
      "Meal Cost in Rhode Island with a tax rate of 7 and tip rate of 25 % = 26.75\n",
      "Meal Cost in South Carolina with a tax rate of 9 and tip rate of 15 % = 25.07\n",
      "Meal Cost in South Carolina with a tax rate of 9 and tip rate of 20 % = 26.16\n",
      "Meal Cost in South Carolina with a tax rate of 9 and tip rate of 25 % = 27.25\n",
      "Meal Cost in South Dakota with a tax rate of 6 and tip rate of 15 % = 24.38\n",
      "Meal Cost in South Dakota with a tax rate of 6 and tip rate of 20 % = 25.439999999999998\n",
      "Meal Cost in South Dakota with a tax rate of 6 and tip rate of 25 % = 26.5\n",
      "Meal Cost in Tennessee with a tax rate of 9.75 and tip rate of 15 % = 25.2425\n",
      "Meal Cost in Tennessee with a tax rate of 9.75 and tip rate of 20 % = 26.34\n",
      "Meal Cost in Tennessee with a tax rate of 9.75 and tip rate of 25 % = 27.4375\n",
      "Meal Cost in Texas with a tax rate of 8.25 and tip rate of 15 % = 24.897499999999997\n",
      "Meal Cost in Texas with a tax rate of 8.25 and tip rate of 20 % = 25.979999999999997\n",
      "Meal Cost in Texas with a tax rate of 8.25 and tip rate of 25 % = 27.0625\n",
      "Meal Cost in Utah with a tax rate of 8.35 and tip rate of 15 % = 24.9205\n",
      "Meal Cost in Utah with a tax rate of 8.35 and tip rate of 20 % = 26.004\n",
      "Meal Cost in Utah with a tax rate of 8.35 and tip rate of 25 % = 27.087500000000002\n",
      "Meal Cost in Vermont with a tax rate of 7 and tip rate of 15 % = 24.61\n",
      "Meal Cost in Vermont with a tax rate of 7 and tip rate of 20 % = 25.68\n",
      "Meal Cost in Vermont with a tax rate of 7 and tip rate of 25 % = 26.75\n",
      "Meal Cost in Virginia with a tax rate of 6 and tip rate of 15 % = 24.38\n",
      "Meal Cost in Virginia with a tax rate of 6 and tip rate of 20 % = 25.439999999999998\n",
      "Meal Cost in Virginia with a tax rate of 6 and tip rate of 25 % = 26.5\n",
      "Meal Cost in Washington with a tax rate of 9.6 and tip rate of 15 % = 25.208000000000002\n",
      "Meal Cost in Washington with a tax rate of 9.6 and tip rate of 20 % = 26.304000000000002\n",
      "Meal Cost in Washington with a tax rate of 9.6 and tip rate of 25 % = 27.400000000000002\n",
      "Meal Cost in West Virginia with a tax rate of 7 and tip rate of 15 % = 24.61\n",
      "Meal Cost in West Virginia with a tax rate of 7 and tip rate of 20 % = 25.68\n",
      "Meal Cost in West Virginia with a tax rate of 7 and tip rate of 25 % = 26.75\n",
      "Meal Cost in Wisconsin with a tax rate of 5.6 and tip rate of 15 % = 24.288\n",
      "Meal Cost in Wisconsin with a tax rate of 5.6 and tip rate of 20 % = 25.344\n",
      "Meal Cost in Wisconsin with a tax rate of 5.6 and tip rate of 25 % = 26.400000000000002\n",
      "Meal Cost in Wyoming with a tax rate of 6 and tip rate of 15 % = 24.38\n",
      "Meal Cost in Wyoming with a tax rate of 6 and tip rate of 20 % = 25.439999999999998\n",
      "Meal Cost in Wyoming with a tax rate of 6 and tip rate of 25 % = 26.5\n"
     ]
    }
   ],
   "source": [
    "### Part - 4\n",
    "food_price=20\n",
    "tips = [15,20,25]\n",
    "\n",
    "def meal_cost(food_price,state_tax,tip):\n",
    "    return food_price + food_price * (state_tax/100) + (food_price + food_price * state_tax/100 ) * (tip/100)\n",
    "    \n",
    "for state in tax:\n",
    "    [print(\"Meal Cost in\",state,\"with a tax rate of\",tax[state],\"and tip rate of\",tip,\"% =\", \\\n",
    "           meal_cost(food_price,tax[state],tip)) for tip in tips]"
   ]
  },
  {
   "cell_type": "markdown",
   "metadata": {},
   "source": [
    "#### (5 pts) C. Search within a file \n",
    "\n",
    "Read the file `restaurant-names.txt` which is stored under: `~/notebooks/notes/pi1/introduction_to_python/data` and answer the following questions:\n",
    "* How many restaurants appear in the dataset?\n",
    "* Print the restaurants that contain the word GREEK in their name.\n",
    "* How many restaurants contain the word PIZZA in their name?"
   ]
  },
  {
   "cell_type": "code",
   "execution_count": 12,
   "metadata": {},
   "outputs": [
    {
     "ename": "FileNotFoundError",
     "evalue": "[Errno 2] No such file or directory: '/home/kp2558/notebooks/notes/pi1/introduction_to_python/data/restaurant-names.txt'",
     "output_type": "error",
     "traceback": [
      "\u001b[0;31m---------------------------------------------------------------------------\u001b[0m",
      "\u001b[0;31mFileNotFoundError\u001b[0m                         Traceback (most recent call last)",
      "\u001b[0;32m<ipython-input-12-4af70610d5e6>\u001b[0m in \u001b[0;36m<module>\u001b[0;34m\u001b[0m\n\u001b[0;32m----> 1\u001b[0;31m \u001b[0mf\u001b[0m \u001b[0;34m=\u001b[0m \u001b[0mopen\u001b[0m\u001b[0;34m(\u001b[0m\u001b[0;34m\"/home/kp2558/notebooks/notes/pi1/introduction_to_python/data/restaurant-names.txt\"\u001b[0m\u001b[0;34m,\u001b[0m\u001b[0;34m\"r\"\u001b[0m\u001b[0;34m)\u001b[0m\u001b[0;34m\u001b[0m\u001b[0;34m\u001b[0m\u001b[0m\n\u001b[0m\u001b[1;32m      2\u001b[0m \u001b[0mcontent\u001b[0m \u001b[0;34m=\u001b[0m \u001b[0mf\u001b[0m\u001b[0;34m.\u001b[0m\u001b[0mread\u001b[0m\u001b[0;34m(\u001b[0m\u001b[0;34m)\u001b[0m\u001b[0;34m.\u001b[0m\u001b[0msplit\u001b[0m\u001b[0;34m(\u001b[0m\u001b[0;34m\"\\n\"\u001b[0m\u001b[0;34m)\u001b[0m\u001b[0;34m\u001b[0m\u001b[0;34m\u001b[0m\u001b[0m\n\u001b[1;32m      3\u001b[0m \u001b[0mf\u001b[0m\u001b[0;34m.\u001b[0m\u001b[0mclose\u001b[0m\u001b[0;34m(\u001b[0m\u001b[0;34m)\u001b[0m\u001b[0;34m\u001b[0m\u001b[0;34m\u001b[0m\u001b[0m\n",
      "\u001b[0;31mFileNotFoundError\u001b[0m: [Errno 2] No such file or directory: '/home/kp2558/notebooks/notes/pi1/introduction_to_python/data/restaurant-names.txt'"
     ]
    }
   ],
   "source": [
    "f = open(\"/home/kp2558/notebooks/notes/pi1/introduction_to_python/data/restaurant-names.txt\",\"r\")\n",
    "content = f.read().split(\"\\n\")\n",
    "f.close()"
   ]
  },
  {
   "cell_type": "code",
   "execution_count": null,
   "metadata": {},
   "outputs": [],
   "source": [
    "### Part - 1\n",
    "def find_restaurants(keyword):\n",
    "    search_list=[]\n",
    "    [search_list.append(line) for line in content if keyword.lower() in line.lower()]\n",
    "    return search_list\n",
    "\n",
    "print(\"There are\", len(content),\"restaurants.\")"
   ]
  },
  {
   "cell_type": "code",
   "execution_count": null,
   "metadata": {},
   "outputs": [],
   "source": [
    "### Part - 2\n",
    "\n",
    "greek_list = find_restaurants(\"GREEK\")\n",
    "print(\"Below are all the restaurants that contain the word GREEK\")\n",
    "greek_restuarants = [print(restaurant) for restaurant in greek_list]"
   ]
  },
  {
   "cell_type": "code",
   "execution_count": null,
   "metadata": {},
   "outputs": [],
   "source": [
    "### Part - 3\n",
    "\n",
    "pizza_list = find_restaurants(\"PIZZA\")\n",
    "print(\"There are\",len(pizza_list),\"restaurants with PIZZA in their name\")"
   ]
  },
  {
   "cell_type": "markdown",
   "metadata": {},
   "source": [
    "#### (5pts) D. Function that returns a dictionary \n",
    "\n",
    "Write a function that has a parameter that is the height of someone in centimeters. You need to convert it into feet and inches. (Each foot is 30.48 cm. Each inch is 2.54cm.). The function should return the height in feet and inches. The result should be a dictionary with two keys, `feet` and `inches`, and the values for both keys should be integers."
   ]
  },
  {
   "cell_type": "code",
   "execution_count": null,
   "metadata": {},
   "outputs": [],
   "source": [
    "def convert_height(ht_in_cm):\n",
    "    height = dict()\n",
    "    height[\"ht_ft\"] = int(ht_in_cm / 30.48)\n",
    "    height[\"ht_in\"] = int(ht_in_cm % 30.48 / 2.54)\n",
    "    return height\n",
    "\n",
    "convert_height(175)"
   ]
  },
  {
   "cell_type": "markdown",
   "metadata": {},
   "source": [
    "#### (5 pts) E. Road Pricing System \n",
    "\n",
    "The Transport Authority is implementing a new Road Pricing system. The authorities decided that the cars will be charged based on distance traveled, on a per mile basis. A car will be charged \\$0.50/mi, a van \\$2.1/mi and taxis travel for free. Create a function to determine how much a particular vehicle would be charged based on a particular distance. The function should take as input the type of the car and the distance traveled, and return the charged price.\n",
    "\n"
   ]
  },
  {
   "cell_type": "code",
   "execution_count": null,
   "metadata": {
    "code_folding": []
   },
   "outputs": [],
   "source": [
    "def charges(car_type, distance):\n",
    "    if distance >0:\n",
    "        if car_type.lower() == \"car\":\n",
    "            return .5 * distance\n",
    "        elif car_type.lower() == \"van\":\n",
    "            return 2.1 * distance\n",
    "        elif car_type.lower() == \"taxi\":\n",
    "            return \"Taxi is free\"\n",
    "        else:\n",
    "            return \"Unknown vehicle type\"\n",
    "    else:\n",
    "        return \"Distance should be greater than zero\"\n",
    "\n",
    "charges(\"taxi\",100)"
   ]
  },
  {
   "cell_type": "markdown",
   "metadata": {},
   "source": [
    "#### (15 pts) F. Most Common Item\n",
    "\n",
    "\n",
    "Part 1. (5pts) Write a function that takes as input a list and returns the most common item in the list. \n",
    "\n",
    "Note: This is a challenging exercise. Below, I give some hints. As there are multiple possible solutions, not all hints are applicable to all solutions. Do not freak out if you came up with a solution that is not using some of the hints.\n",
    "\n",
    "* _Hint 1: Make use of set to identify all the unique values in the list_\n",
    "* _Hint 2: Use the `list.count(...)` function to find the frequency of each item_\n",
    "* _Hint 3: The `max()` function can return the maximum value in a list_\n",
    "* _Hint 4: You will need to use a for loop, or a list comprehension_\n",
    "\n",
    "Here are some pieces of code that can help you towards your solution. Try to understand what each piece of code is doing, and figure out how to piece everything together."
   ]
  },
  {
   "cell_type": "code",
   "execution_count": null,
   "metadata": {},
   "outputs": [],
   "source": [
    "list_of_names = [\"Kanisha\", \"Candance\", \"Lila\", \"Lupe\", \"Alexander\", \"Candance\", \n",
    "           \"Irvin\", \"Kanisha\", \"Lila\", \"May\", \"Lila\", \"Alexander\", \"Ivana\", \"Alexander\"]\n",
    "list_of_names.count(\"Candance\")"
   ]
  },
  {
   "cell_type": "code",
   "execution_count": null,
   "metadata": {},
   "outputs": [],
   "source": [
    "numbers = [5,42,34,6,7,4,2,5]\n",
    "maximum = 0\n",
    "for number in numbers:\n",
    "    if number > maximum:\n",
    "        maximum = number\n",
    "print(\"The maximum is\", maximum)"
   ]
  },
  {
   "cell_type": "code",
   "execution_count": null,
   "metadata": {},
   "outputs": [],
   "source": [
    "counter = dict()\n",
    "for name in list_of_names:\n",
    "    if name in counter:\n",
    "        counter[name] = counter[name]+1\n",
    "    else:\n",
    "        counter[name] = 1\n",
    "counter"
   ]
  },
  {
   "cell_type": "code",
   "execution_count": null,
   "metadata": {
    "code_folding": []
   },
   "outputs": [],
   "source": [
    "text_list = [\"Kanisha\", \"Candance\", \"Lila\", \"Lupe\", \"Alexander\", \"Candance\", \n",
    "           \"Irvin\", \"Kanisha\", \"Lila\", \"May\", \"Lila\", \"Alexander\", \"Ivana\", \"Alexander\"]\n"
   ]
  },
  {
   "cell_type": "code",
   "execution_count": null,
   "metadata": {},
   "outputs": [],
   "source": [
    "\n",
    "def get_most_frequent_words(text_list):\n",
    "    counter = dict()\n",
    "    for name in text_list:\n",
    "        if name in counter:\n",
    "            counter[name] = counter[name]+1\n",
    "        else:\n",
    "            counter[name] = 1\n",
    "    return sorted([(v,k) for (k,v) in counter.items()], reverse=True)"
   ]
  },
  {
   "cell_type": "code",
   "execution_count": null,
   "metadata": {},
   "outputs": [],
   "source": [
    "text_dict = get_most_frequent_words(text_list)\n",
    "text_dict"
   ]
  },
  {
   "cell_type": "markdown",
   "metadata": {},
   "source": [
    "Part 2.  (5pts) Use the function that you created here to find the most frequent restaurant names in the dataset, which is stored at `/home/YOUR_USERNAME/notebooks/notes/pi1/introduction_to_python/data/restaurants.txt`, replacing YOUR_USERNAME with your NYUid (e.g., abs123)."
   ]
  },
  {
   "cell_type": "code",
   "execution_count": null,
   "metadata": {},
   "outputs": [],
   "source": [
    "f = open(\"/home/kp2558/notebooks/notes/pi1/introduction_to_python/data/restaurants.txt\",\"r\")\n",
    "\n",
    "result_dict = {}\n",
    "res_content = f.read().split(\"\\n\")\n",
    "f.close()\n",
    "result_dict = get_most_frequent_words(res_content)\n",
    "result_dict"
   ]
  },
  {
   "cell_type": "markdown",
   "metadata": {},
   "source": [
    "Part 3.  (5pts) Find the most frequent words that appear in the restaurant names. Create two answers: one for the dataset at `/home/YOUR_USERNAME/notebooks/notes/pi1/introduction_to_python/data/restaurant-names.txt` which contains only distinct restaurant names, and for the dataset at `/home/YOUR_USERNAME/notebooks/notes/pi1/introduction_to_python/data/restaurants.txt` which contains the names of all the restaurants in NYC, without eliminating duplicate names. In the filenames, please replace YOUR_USERNAME with your NYUid (e.g., abs123)."
   ]
  },
  {
   "cell_type": "code",
   "execution_count": null,
   "metadata": {
    "code_folding": []
   },
   "outputs": [],
   "source": [
    "\n",
    "def get_frequent_restaurant_words(file_name):\n",
    "    \n",
    "    result = {}\n",
    "    f = open('/home/kp2558/notebooks/notes/pi1/introduction_to_python/data/{0}.txt'.format(file_name),'r')\n",
    "    content = f.read()\n",
    "    f.close()\n",
    "    content = content.replace(\"\\n\",\" \").translate({ord(c): \"\" for c in \"'\\\"!@#$%^&*()[]{};:,./<>?\\|`~-=_+¢é°É\\x1a0123456789\"})\n",
    "    result = get_most_frequent_words(content.split())\n",
    "    return result\n",
    "    "
   ]
  },
  {
   "cell_type": "code",
   "execution_count": null,
   "metadata": {},
   "outputs": [],
   "source": [
    "restaurant_names = \"restaurant-names\"\n",
    "\n",
    "result_restaurant_names = get_frequent_restaurant_words(restaurant_names)\n",
    "print(\"The most frequest words in\", restaurant_names)\n",
    "[print(\"{}\\n\".format(item)) for item in result_restaurant_names]"
   ]
  },
  {
   "cell_type": "code",
   "execution_count": null,
   "metadata": {},
   "outputs": [],
   "source": [
    "restaurants = \"restaurants\"\n",
    "result_restaurant = get_frequent_restaurant_words(restaurants)\n",
    "print(\"The most frequest words in\", restaurant)\n",
    "[print(\"{}\\n\".format(item)) for item in result_restaurant]\n",
    "    "
   ]
  },
  {
   "cell_type": "code",
   "execution_count": null,
   "metadata": {},
   "outputs": [],
   "source": []
  }
 ],
 "metadata": {
  "kernelspec": {
   "display_name": "Python 3",
   "language": "python",
   "name": "python3"
  },
  "language_info": {
   "codemirror_mode": {
    "name": "ipython",
    "version": 3
   },
   "file_extension": ".py",
   "mimetype": "text/x-python",
   "name": "python",
   "nbconvert_exporter": "python",
   "pygments_lexer": "ipython3",
   "version": "3.7.1"
  },
  "toc": {
   "nav_menu": {},
   "number_sections": true,
   "sideBar": true,
   "skip_h1_title": false,
   "title_cell": "Table of Contents",
   "title_sidebar": "Contents",
   "toc_cell": false,
   "toc_position": {},
   "toc_section_display": true,
   "toc_window_display": false
  }
 },
 "nbformat": 4,
 "nbformat_minor": 2
}
